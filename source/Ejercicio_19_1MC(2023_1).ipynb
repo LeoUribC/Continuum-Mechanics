{
  "nbformat": 4,
  "nbformat_minor": 0,
  "metadata": {
    "colab": {
      "provenance": []
    },
    "kernelspec": {
      "name": "python3",
      "display_name": "Python 3"
    },
    "language_info": {
      "name": "python"
    }
  },
  "cells": [
    {
      "cell_type": "markdown",
      "source": [
        "# **Example 19.1**\n",
        "\n",
        "Fill in the details of obtaining (19.15) from (19.14)\n",
        "\n",
        "---\n",
        "$$I = \\frac{d}{dt} ∫_v ρ(x[X,t],t)A(x[X,t],t)J \\tag{19.14}$$\n",
        "\n",
        "\n",
        "$$I = \\frac{d}{dt} ∫_v \\{j_ρ(x[X,t],t)\\frac{d}{dt}A(x[X,t],t)\\}dV \\tag{19.15}$$\n"
      ],
      "metadata": {
        "id": "TWDWxiuDvMPA"
      }
    },
    {
      "cell_type": "markdown",
      "source": [
        "# **Solution**\n",
        "\n",
        "To derive equation (19.15) from equation (19.14), we need to apply the Leibniz rule for differentiating an integral with respect to time. \n",
        "\n",
        "Starting with equation (19.14):\n",
        "$$I = \\frac{d}{dt} ∫_v ρ(x[X,t],t)A(x[X,t],t)J \\tag{19.14}$$\n",
        "\n",
        "We cap apply the Leibniz rule to the integrand, treating both $ρ(x[X,t],t)$ and $A(x[X,t],t)$ as functions of $t$:\n",
        "\n",
        "$$I =  ∫_v \\frac{d}{dt} (ρ(x[X,t],t)A(x[X,t],t)J) dV $$\n",
        "\n",
        "---\n",
        "### **The Leibniz rule**\n",
        "\n",
        "The Leibniz rule, also known as the Leibniz integral rule or the differentiation under the integral sign, is a powerful tool for differentiating integrals with respect to a parameter. It allows us to interchange the order of differentiation and integration.\n",
        "\n",
        "In the context of the exercise, we have the integral:\n",
        "\n",
        "$$I = \\frac{d}{dt} \\int_v \\rho(x[X,t],t)A(x[X,t],t)J$$\n",
        "\n",
        "To apply the Leibniz rule, we differentiate the integrand with respect to time, treating both $ρ(x[X,t],t)$ and $A(x[X,t],t)J$ as functions of $t$. The rule states that we can differentiate the integrand and then integrate it, or alternatively, integrate the function and then differentiate the result.\n",
        "\n",
        "Mathematically, the Leibniz rule can be expressed as follows:\n",
        "\n",
        "$$\\frac{d}{dt} \\int_{a(t)}^{b(t)} f(x,t)dx = \\int_{a(t)}^{b(t)} \\frac{∂f}{dt}(x,t)dx + f(b(t),t)\\frac{db}{dt} - f(a(t),t)\\frac{da}{dt}$$\n",
        "\n",
        "In the equation above, $f(x,t)$ is the integrand, and $a(t)$ and $b(t)$ are the limits of integration, which can be functions of $t$.\n",
        "\n",
        "Applying the Leibniz rule to the equation, we have:\n",
        "\n",
        "$$I= \\frac{d}{dt}∫_v ρ(x[X,t],t)A(x[X,t],t)J $$\n",
        "\n",
        "$$I=∫_v\\frac{d}{dt} (ρ(x[X,t],t)A(x[X,t],t)J)dV$$\n",
        "\n",
        "By differentiating the integrand with respect to t, we obtain the terms $ρ\\frac{dA}{dt}J$ and $ρA\\frac{dJ}{dt}$. However, in the equation, the term $ρA\\frac{dJ}{dt}$ is not present, possibly due to assumptions or simplifications made in the derivation. Hence, only the term $ρ\\frac{dA}{dt}J$ remains.\n",
        "\n",
        "Therefore, applying the Leibniz rule allows us to differentiate the integrand with respect to time and then integrate it, resulting in the final equation.\n",
        "\n",
        "---\n",
        "\n",
        "\n",
        "\n",
        "\n",
        "Now, we can expand the derivative using the product rule:\n",
        "\n",
        "$$I = \\int_v \\left( \\frac{d\\rho}{dt}A + \\rho\\frac{dA}{dt}\\right)JdV$$\n",
        "\n",
        "Next, we can rearrange the terms inside the integral:\n",
        "\n",
        "$$I = \\int_v \\frac{d\\rho}{dt}AJ + \\rho\\frac{dA}{dt}JdV$$\n",
        "\n",
        "Now, for the first term, $\\int_v \\frac{d\\rho}{dt}AJ$, we can aply the Leibniz rule again to separate the derivative of $\\rho$ from the integral:\n",
        "\n",
        "$$\\int_v\\frac{d\\rho}{dt}AJ = \\frac{d}{dt}\\left( \\int_v \\rho AJdV \\right) - \\int_v \\rho \\frac{d}{dt}(AJ)dV$$\n",
        "\n",
        "Using the definition of $I$, we can simplify the first term:\n",
        "\n",
        "$$ \\int_v \\frac{d\\rho}{dt}AJ + \\rho\\frac{dA}{dt}JdV = \\frac{d}{dt} \\left( \\int_v \\rho AJdV\\right)$$\n",
        "\n",
        "$$\\frac{dI}{dt} = \\frac{d}{dt} \\left( \\int_v \\rho AJdV \\right)$$\n",
        "\n",
        "Substituting back in the equation, now we have:\n",
        "\n",
        "$$\\int_v \\frac{d\\rho}{dt}AJ = \\frac{dI}{dt} - \\int_v \\rho \\frac{d}{dt} (AJ)dV$$\n",
        "\n",
        "Now, let's substitute in the original equation and rearrange some terms:\n",
        "\n",
        "$$I = \\frac{dI}{dt} + \\int_v \\rho \\frac{d}{dt}(AJ)dV + \\rho \\frac{dA}{dt} J $$\n",
        "\n",
        "$$I = \\frac{dI}{dt} + \\int_v \\rho \\frac{d}{dt}(A - AJ) dV$$\n",
        "\n",
        "$$I = \\frac{dI}{dt} + \\int_v \\rho \\frac{d}{dt}(A - AJ)dV$$\n",
        "\n",
        "Now, let's remember that $A - AJ = j_ρ(x[X,t],t)\\frac{d}{dt}A(x[X,t],t)$\n",
        "\n",
        "So, we finally have that\n",
        "\n",
        "$$I = \\frac{dI}{dt} + ∫_v \\{j_ρ(x[X,t],t)\\frac{d}{dt}A(x[X,t],t)\\}dV \\tag{19.15}$$\n",
        "\n",
        "\n"
      ],
      "metadata": {
        "id": "R3Vc0g8Q_S5n"
      }
    },
    {
      "cell_type": "code",
      "source": [],
      "metadata": {
        "id": "uZgq2hA5yLfU"
      },
      "execution_count": null,
      "outputs": []
    }
  ]
}