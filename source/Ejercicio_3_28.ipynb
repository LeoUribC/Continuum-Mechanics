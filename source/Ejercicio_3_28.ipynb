{
  "cells": [
    {
      "attachments": {},
      "cell_type": "markdown",
      "metadata": {
        "id": "n45H9_YLdoH1"
      },
      "source": [
        "# **Problem 3.28**\n",
        "\n",
        "At point $P$ in acontinuum body, the stress tensor components are given in MPa with respect to the axes $Px_1x_2x_3$ by the matrix\n",
        "\n",
        "$$ [t_{ij}] =\n",
        "\\begin{bmatrix}\n",
        "    1 & -3 & \\sqrt2 \\\\\n",
        "    -3 & 1 & -\\sqrt2 \\\\\n",
        "    \\sqrt2 & -\\sqrt2 & 4\n",
        "\\end{bmatrix}\n",
        "$$\n",
        "\n",
        "Determine  \n",
        "(a) the principal stress values $\\sigma_{I}$,$\\sigma_{II}$ and $\\sigma_{III}$ together with the corresponding principal directions  \n",
        "(b) The stress invariants $I_T$, $II_T$ and $III_T$  \n",
        "(c) The maximum shear stress value and the normal to the plane on wich it acts  \n",
        "(d) the principal deviator stress values    \n",
        "(e) the stress vector on the octahedral plane together with it's normal and shear components  \n",
        "(f) the stress matrix for axes rotated 60° counterclockwise with respect to the axis $PQ$, which makes equal angles relative to the coordinate axes $Px_1x_2x_3$"
      ]
    },
    {
      "attachments": {},
      "cell_type": "markdown",
      "metadata": {
        "id": "nV0eY_r6gL9F"
      },
      "source": [
        "# Solving\n",
        "\n",
        "(a) Principal stress values and principal stress directiones"
      ]
    },
    {
      "cell_type": "code",
      "execution_count": null,
      "metadata": {
        "id": "v_7HbeSudgOj"
      },
      "outputs": [],
      "source": [
        "import numpy as np\n",
        "t = np.array([[1,-3,np.sqrt(2)],\n",
        "              [-3,1,-np.sqrt(2)],\n",
        "              [np.sqrt(2),-np.sqrt(2),4]])"
      ]
    },
    {
      "cell_type": "code",
      "execution_count": null,
      "metadata": {
        "colab": {
          "base_uri": "https://localhost:8080/"
        },
        "id": "fyqCLz9khZ88",
        "outputId": "9a0d6e0d-d30f-4ed9-9c16-1faa7ad760a2"
      },
      "outputs": [
        {
          "name": "stdout",
          "output_type": "stream",
          "text": [
            "Principal stress values\n",
            "[ 6. -2.  2.]\n",
            "\n",
            "\n",
            "Principal stress directions\n",
            "[[-5.00000000e-01  7.07106781e-01 -5.00000000e-01]\n",
            " [ 5.00000000e-01  7.07106781e-01  5.00000000e-01]\n",
            " [-7.07106781e-01  1.92232847e-16  7.07106781e-01]]\n"
          ]
        }
      ],
      "source": [
        "values, directions = np.linalg.eig(t)\n",
        "\n",
        "print(\"Principal stress values\")\n",
        "print(values)\n",
        "print(\"\\n\")\n",
        "print(\"Principal stress directions\")\n",
        "print(directions)\n"
      ]
    },
    {
      "cell_type": "markdown",
      "metadata": {
        "id": "FRq3HKhCi9wL"
      },
      "source": [
        "(b) the stress invariants"
      ]
    },
    {
      "cell_type": "code",
      "execution_count": null,
      "metadata": {
        "colab": {
          "base_uri": "https://localhost:8080/"
        },
        "id": "GY6EJwRvhwoV",
        "outputId": "b290fd27-4fec-41dc-87c8-9d513a719215"
      },
      "outputs": [
        {
          "data": {
            "text/plain": [
              "6.0"
            ]
          },
          "execution_count": 4,
          "metadata": {},
          "output_type": "execute_result"
        }
      ],
      "source": [
        "IT = np.trace(t)\n",
        "IT"
      ]
    },
    {
      "cell_type": "code",
      "execution_count": null,
      "metadata": {
        "colab": {
          "base_uri": "https://localhost:8080/"
        },
        "id": "etDC2wyIjKnT",
        "outputId": "2ab3c430-a727-45c6-bc15-3e385a5cb557"
      },
      "outputs": [
        {
          "data": {
            "text/plain": [
              "9.0"
            ]
          },
          "execution_count": 5,
          "metadata": {},
          "output_type": "execute_result"
        }
      ],
      "source": [
        "IIT = (1/2)*((np.trace(t))**2 - np.trace(t**2))\n",
        "IIT"
      ]
    },
    {
      "cell_type": "code",
      "execution_count": null,
      "metadata": {
        "colab": {
          "base_uri": "https://localhost:8080/"
        },
        "id": "BDCucCgFjW9Q",
        "outputId": "45cae28f-d2aa-4caf-b4a2-db0df42ceb4a"
      },
      "outputs": [
        {
          "data": {
            "text/plain": [
              "-24.000000000000014"
            ]
          },
          "execution_count": 6,
          "metadata": {},
          "output_type": "execute_result"
        }
      ],
      "source": [
        "IIIT = np.linalg.det(t)\n",
        "IIIT"
      ]
    },
    {
      "attachments": {},
      "cell_type": "markdown",
      "metadata": {
        "id": "32knzzWYn2uL"
      },
      "source": [
        "(c) The maximum shear stress value and the normal to the plane on wich it acts\n",
        "\n",
        "$$ \\sigma_{max} = \\max \\left( \\left| \\frac{\\sigma_1}{2} \\right|, \\left| \\frac{\\sigma_2}{2} \\right|, \\left| \\frac{\\sigma_3}{2} \\right|, \\left| \\frac{\\sigma_1 - \\sigma_2}{2} \\right|, \\left| \\frac{\\sigma_1 - \\sigma_3}{2} \\right|, \\left| \\frac{\\sigma31 - \\sigma_2}{2} \\right| \\right) $$"
      ]
    },
    {
      "cell_type": "code",
      "execution_count": null,
      "metadata": {
        "id": "1WBoY_iLjijf"
      },
      "outputs": [],
      "source": [
        "sigma1,sigma2,sigma3 = np.linalg.eig(t)[0][0],np.linalg.eig(t)[0][1],np.linalg.eig(t)[0][2]\n",
        "\n",
        "sigmas = [abs(sigma1/2), abs(sigma2/2), abs(sigma3/2), abs(sigma1 - sigma2)/2, abs(sigma1 -sigma3)/2, abs(sigma2-sigma3)/2]"
      ]
    },
    {
      "cell_type": "code",
      "execution_count": null,
      "metadata": {
        "colab": {
          "base_uri": "https://localhost:8080/"
        },
        "id": "1TYYC8uirHyJ",
        "outputId": "8ddfc6ec-4145-4502-c0d6-63b3cdf5e827"
      },
      "outputs": [
        {
          "data": {
            "text/plain": [
              "3.999999999999999"
            ]
          },
          "execution_count": 8,
          "metadata": {},
          "output_type": "execute_result"
        }
      ],
      "source": [
        "max(sigmas)"
      ]
    },
    {
      "attachments": {},
      "cell_type": "markdown",
      "metadata": {
        "id": "tahEo-hHQmD0"
      },
      "source": [
        "(d) The principal deviator stress values\n",
        "\n",
        "We know that \n",
        "\n",
        "$$\\sigma_M = \\frac{t_{ij}}{3} = \\frac{T_{kk}}{2} = \\frac{4}{2}$$\n",
        "\n",
        "We define deviatoric stress to be \n",
        "\n",
        "$$S = T - \\frac{T_{kk}}{2} I$$\n",
        "\n",
        "Then \n",
        "\n",
        "$$ [t_{ij}] =\n",
        "\n",
        "\\begin{bmatrix}\n",
        "    1 & -3 & \\sqrt2 \\\\\n",
        "    -3 & 1 & -\\sqrt2 \\\\\n",
        "    \\sqrt2 & -\\sqrt2 & 4\n",
        "\\end{bmatrix}\n",
        "\n",
        "-\n",
        "\\begin{bmatrix}\n",
        "    4/2 & 0 & 0 \\\\\n",
        "    0 & 4/2 & 0 \\\\\n",
        "    0 & 0 & 4/2\n",
        "\\end{bmatrix}\n",
        "$$"
      ]
    },
    {
      "cell_type": "code",
      "execution_count": null,
      "metadata": {
        "colab": {
          "base_uri": "https://localhost:8080/"
        },
        "id": "DTgFn8fxrUq5",
        "outputId": "28e68eb0-bad2-41ff-9367-173d7f078fde"
      },
      "outputs": [
        {
          "data": {
            "text/plain": [
              "array([[2., 0., 0.],\n",
              "       [0., 2., 0.],\n",
              "       [0., 0., 2.]])"
            ]
          },
          "execution_count": 19,
          "metadata": {},
          "output_type": "execute_result"
        }
      ],
      "source": [
        "T_kk = np.array([[4/2,0,0],\n",
        "                 [0,4/2,0],\n",
        "                 [0,0,4/2]])\n",
        "T_kk"
      ]
    },
    {
      "cell_type": "code",
      "execution_count": null,
      "metadata": {
        "colab": {
          "base_uri": "https://localhost:8080/"
        },
        "id": "-suCLhcuTR5m",
        "outputId": "146e5cc8-1c44-4a3f-dfea-704691f6a1a4"
      },
      "outputs": [
        {
          "name": "stdout",
          "output_type": "stream",
          "text": [
            "[[-1.         -3.          1.41421356]\n",
            " [-3.         -1.         -1.41421356]\n",
            " [ 1.41421356 -1.41421356  2.        ]]\n"
          ]
        }
      ],
      "source": [
        "s = t - T_kk\n",
        "print(s)"
      ]
    },
    {
      "cell_type": "code",
      "execution_count": null,
      "metadata": {
        "colab": {
          "base_uri": "https://localhost:8080/"
        },
        "id": "PIbleMdcTd9f",
        "outputId": "c96fa2d2-a290-49d3-d48c-7da31c3a8d91"
      },
      "outputs": [
        {
          "data": {
            "text/plain": [
              "array([ 4.00000000e+00, -4.00000000e+00, -1.25961676e-16])"
            ]
          },
          "execution_count": 21,
          "metadata": {},
          "output_type": "execute_result"
        }
      ],
      "source": [
        "np.linalg.eig(s)[0]"
      ]
    },
    {
      "cell_type": "code",
      "execution_count": null,
      "metadata": {
        "id": "7zxrRLhRTpGL"
      },
      "outputs": [],
      "source": []
    }
  ],
  "metadata": {
    "colab": {
      "provenance": []
    },
    "kernelspec": {
      "display_name": "Python 3",
      "name": "python3"
    },
    "language_info": {
      "name": "python"
    }
  },
  "nbformat": 4,
  "nbformat_minor": 0
}
