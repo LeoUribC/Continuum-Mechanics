{
  "cells": [
    {
      "attachments": {},
      "cell_type": "markdown",
      "metadata": {
        "id": "XNFCieBRSCcY"
      },
      "source": [
        "# **Exercise 3.18**\n",
        "\n",
        "The stress tensor at $P$ is given with respect to $Ox_1x_2x_3$ in matrix form with units of MPa by\n",
        "\n",
        "$$ [t_{ij}] =\n",
        "\\begin{bmatrix}\n",
        "    4 & b & b \\\\\n",
        "    b & 7 & 2 \\\\\n",
        "    b & 2 & 4\n",
        "\\end{bmatrix}\n",
        "$$\n",
        "\n",
        "Where $b$ is unespecified. If $\\sigma_{III} = 3 \\; \\text{MPa}$ and $\\sigma_{I} = 2\\sigma_{II}$, determine\n",
        "\n",
        "(a) the principal stress values  \n",
        "(b) the value of b  \n",
        "(c) the principal stress direction of $\\sigma_{II}$"
      ]
    },
    {
      "attachments": {},
      "cell_type": "markdown",
      "metadata": {},
      "source": [
        "## Solving\n",
        "\n",
        "Let's import the necessary libraries and declare the stress tensor given:"
      ]
    },
    {
      "cell_type": "code",
      "execution_count": null,
      "metadata": {
        "colab": {
          "base_uri": "https://localhost:8080/",
          "height": 39
        },
        "id": "WO4MRfmXR7iM",
        "outputId": "f83e6026-cc19-48e0-db59-ae55e19216e0"
      },
      "outputs": [
        {
          "data": {
            "text/latex": [
              "$\\displaystyle \\left[ \\left[ 4, \\  b, \\  b\\right], \\  \\left[ b, \\  7, \\  2\\right], \\  \\left[ b, \\  2, \\  4\\right]\\right]$"
            ],
            "text/plain": [
              "[[4, b, b], [b, 7, 2], [b, 2, 4]]"
            ]
          },
          "execution_count": 18,
          "metadata": {},
          "output_type": "execute_result"
        }
      ],
      "source": [
        "from sympy import *\n",
        "import numpy as np\n",
        "\n",
        "init_printing()\n",
        "\n",
        "lamda = symbols('lambda')\n",
        "b = symbols('b')\n",
        "t = [[4,b,b],[b,7,2],[b,2,4]]\n",
        "t"
      ]
    },
    {
      "attachments": {},
      "cell_type": "markdown",
      "metadata": {
        "id": "je_TOy49T4zM"
      },
      "source": [
        "First, let's use the algorithm to find the determinant:"
      ]
    },
    {
      "cell_type": "code",
      "execution_count": null,
      "metadata": {
        "colab": {
          "base_uri": "https://localhost:8080/",
          "height": 39
        },
        "id": "w9bNwU1ATlva",
        "outputId": "0e56bba5-fab0-407d-9d52-70fa0146469f"
      },
      "outputs": [
        {
          "data": {
            "text/latex": [
              "$\\displaystyle \\left[ \\left[ 4 - \\lambda, \\  b, \\  b\\right], \\  \\left[ b, \\  7 - \\lambda, \\  2\\right], \\  \\left[ b, \\  2, \\  4 - \\lambda\\right]\\right]$"
            ],
            "text/plain": [
              "[[4 - λ, b, b], [b, 7 - λ, 2], [b, 2, 4 - λ]]"
            ]
          },
          "execution_count": 20,
          "metadata": {},
          "output_type": "execute_result"
        }
      ],
      "source": [
        "t_lamda = [[4-lamda,b,b],[b,7-lamda,2],[b,2,4-lamda]]\n",
        "t_lamda"
      ]
    },
    {
      "cell_type": "code",
      "execution_count": null,
      "metadata": {
        "colab": {
          "base_uri": "https://localhost:8080/",
          "height": 39
        },
        "id": "kOXxSoKGVjZl",
        "outputId": "6c97b069-2407-4500-f57a-06805be96092"
      },
      "outputs": [
        {
          "data": {
            "text/latex": [
              "$\\displaystyle - b \\left(b \\left(4 - \\lambda\\right) - 2 b\\right) + b \\left(- b \\left(7 - \\lambda\\right) + 2 b\\right) + \\left(4 - \\lambda\\right) \\left(\\left(4 - \\lambda\\right) \\left(7 - \\lambda\\right) - 4\\right)$"
            ],
            "text/plain": [
              "-b⋅(b⋅(4 - λ) - 2⋅b) + b⋅(-b⋅(7 - λ) + 2⋅b) + (4 - λ)⋅((4 - λ)⋅(7 - λ) - 4)"
            ]
          },
          "execution_count": 26,
          "metadata": {},
          "output_type": "execute_result"
        }
      ],
      "source": [
        "det = (4 - lamda)*((7-lamda)*(4-lamda) - (2*2)) - b*((b)*(4-lamda) - (2)*(b)) + b*((2)*(b) - (b)*(7-lamda))\n",
        "det"
      ]
    },
    {
      "attachments": {},
      "cell_type": "markdown",
      "metadata": {
        "id": "rMQkz_4VarO4"
      },
      "source": [
        "Now, we know that $\\lambda = 3$, so let's replace in the polynomial and solve the equation for this $\\lambda$:"
      ]
    },
    {
      "cell_type": "code",
      "execution_count": null,
      "metadata": {
        "colab": {
          "base_uri": "https://localhost:8080/",
          "height": 37
        },
        "id": "_9A83sM8aBXX",
        "outputId": "4b2a63b1-5d87-473f-e940-a7bdd4ffa575"
      },
      "outputs": [
        {
          "data": {
            "text/latex": [
              "$\\displaystyle \\left[ 0\\right]$"
            ],
            "text/plain": [
              "[0]"
            ]
          },
          "execution_count": 28,
          "metadata": {},
          "output_type": "execute_result"
        }
      ],
      "source": [
        "solve(det.subs(lamda,3),b)"
      ]
    },
    {
      "attachments": {},
      "cell_type": "markdown",
      "metadata": {
        "id": "8CgUu7t3bD9o"
      },
      "source": [
        "Then, $b=0$"
      ]
    },
    {
      "cell_type": "code",
      "execution_count": null,
      "metadata": {
        "colab": {
          "base_uri": "https://localhost:8080/",
          "height": 37
        },
        "id": "uaVOygsyazWs",
        "outputId": "a6f8d5ea-1eba-4ac4-e756-5414375b7906"
      },
      "outputs": [
        {
          "data": {
            "text/latex": [
              "$\\displaystyle \\left[ \\left[ 4, \\  0, \\  0\\right], \\  \\left[ 0, \\  7, \\  2\\right], \\  \\left[ 0, \\  2, \\  4\\right]\\right]$"
            ],
            "text/plain": [
              "[[4, 0, 0], [0, 7, 2], [0, 2, 4]]"
            ]
          },
          "execution_count": 31,
          "metadata": {},
          "output_type": "execute_result"
        }
      ],
      "source": [
        "b = 0\n",
        "t = [[4,b,b],[b,7,2],[b,2,4]]\n",
        "t"
      ]
    },
    {
      "cell_type": "code",
      "execution_count": null,
      "metadata": {
        "colab": {
          "base_uri": "https://localhost:8080/"
        },
        "id": "QWWeBvmIbMbK",
        "outputId": "b192df95-6cfc-442a-ddbb-6dc579b39e77"
      },
      "outputs": [
        {
          "data": {
            "text/plain": [
              "array([3., 8., 4.])"
            ]
          },
          "execution_count": 32,
          "metadata": {},
          "output_type": "execute_result"
        }
      ],
      "source": [
        "t = np.array(t)\n",
        "np.linalg.eig(t)[0]"
      ]
    },
    {
      "attachments": {},
      "cell_type": "markdown",
      "metadata": {
        "id": "simpt_A7bj-4"
      },
      "source": [
        "We have then that $\\sigma_{III} = 3 \\; \\text{MPa}$, $\\sigma_{I} = 8 \\; \\text{MPa}$, and $\\sigma_{II} = 4 \\; \\text{MPa}$.\n",
        "\n",
        "So $\\sigma_{I} = 2\\sigma_{II}$ as expected."
      ]
    },
    {
      "cell_type": "code",
      "execution_count": null,
      "metadata": {
        "colab": {
          "base_uri": "https://localhost:8080/"
        },
        "id": "nvJCGi75bf5g",
        "outputId": "12192cce-3cb4-4205-f718-0d458495167f"
      },
      "outputs": [
        {
          "data": {
            "text/plain": [
              "array([[ 0.        ,  0.        ,  1.        ],\n",
              "       [ 0.4472136 , -0.89442719,  0.        ],\n",
              "       [-0.89442719, -0.4472136 ,  0.        ]])"
            ]
          },
          "execution_count": 37,
          "metadata": {},
          "output_type": "execute_result"
        }
      ],
      "source": [
        "np.linalg.eig(t)[1]"
      ]
    },
    {
      "attachments": {},
      "cell_type": "markdown",
      "metadata": {
        "id": "1B_K5xFVdGSI"
      },
      "source": [
        "Finally, as seen, the principal direction associated with $\\sigma_{II}$ is the vector $[1,0,0]$, or,\n",
        "\n",
        "$$\\hat{n}^{(2)} = \\hat{e}_1$$"
      ]
    }
  ],
  "metadata": {
    "colab": {
      "provenance": []
    },
    "kernelspec": {
      "display_name": "Python 3",
      "name": "python3"
    },
    "language_info": {
      "name": "python"
    }
  },
  "nbformat": 4,
  "nbformat_minor": 0
}
