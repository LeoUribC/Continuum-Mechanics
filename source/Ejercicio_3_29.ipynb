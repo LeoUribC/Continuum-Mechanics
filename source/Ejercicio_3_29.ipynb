{
  "cells": [
    {
      "attachments": {},
      "cell_type": "markdown",
      "metadata": {
        "id": "ILPxybuI7vJg"
      },
      "source": [
        "# **Problem 3.29**\n",
        "\n",
        "In a continuum, the stress field relative to the axes $Ox_1x_2x_3$ is given by \n",
        "\n",
        "$$ [t_{ij}] =\n",
        "\\begin{bmatrix}\n",
        "    x_1^2x_2 & x_1(1 - x_2^2) & 0 \\\\\n",
        "    x_1(1 - x_2^2) & \\frac{1}{3}(x_2^2 - 3x_2) & 0 \\\\\n",
        "    0 & 0 & 2x_3^2\n",
        "\\end{bmatrix}\n",
        "$$\n",
        "\n",
        "Determine  \n",
        "(a) the body force distribution if the equilibrium equations are to be satisfied throughtout the field  \n",
        "(b) the principal stresses at $P(a,0,2\\sqrt a)$  \n",
        "(c) the maximum shear stress at $P$  \n",
        "(d) the principal deviator stresses at $P$ "
      ]
    },
    {
      "attachments": {},
      "cell_type": "markdown",
      "metadata": {
        "id": "gsey3Xzr9pO0"
      },
      "source": [
        "## Solving\n",
        "\n",
        "(a) Equilibrium equations are given by:\n",
        "\n",
        "$$t_{ij}+ \\rho b_{i} = 0$$\n",
        "\n",
        "$$\\frac{\\partial t_{x1x1}}{\\partial x_1} + \\frac{\\partial t_{x1x2}}{\\partial x_2} + \\frac{\\partial t_{x1x3}}{\\partial x_3} + \\rho b_{1} = 0$$\n",
        "\n",
        "$$\\frac{\\partial t_{x2x1}}{\\partial x_1} + \\frac{\\partial t_{x2x2}}{\\partial x_2} + \\frac{\\partial t_{x2x3}}{\\partial x_3} + \\rho b_{2} = 0$$\n",
        "\n",
        "$$\\frac{\\partial t_{x3x1}}{\\partial x_1} + \\frac{\\partial t_{x3x2}}{\\partial x_2} + \\frac{\\partial t_{x3x3}}{\\partial x_3} + \\rho b_{3} = 0$$\n"
      ]
    },
    {
      "cell_type": "code",
      "execution_count": null,
      "metadata": {
        "id": "721ibBJI9iRM"
      },
      "outputs": [],
      "source": [
        "from sympy import *\n",
        "\n",
        "init_printing()\n",
        "\n",
        "x1,x2,x3,rho, b1,b2,b3 = symbols('x_1 x_2 x_3 rho b_1 b_2 b_3')\n",
        "\n",
        "t_x1x1 = x1**2 * x2\n",
        "t_x1x2 = x1*(1-x2**2)\n",
        "t_x1x3 = 0\n",
        "t_x2x1 = x1*(1-x2**2)\n",
        "t_x2x2 = (1/3)*(x2**2 - 3*x2)\n",
        "t_x2x3 = 0\n",
        "t_x3x1 = 0\n",
        "t_x3x2 = 0\n",
        "t_x3x3 = 2*x3**2\n"
      ]
    },
    {
      "attachments": {},
      "cell_type": "markdown",
      "metadata": {
        "id": "i5u09z3VBi6u"
      },
      "source": [
        "Now, we calculate the equilibrium equations with the necessary derivatives, solving for every $b_i$:"
      ]
    },
    {
      "cell_type": "markdown",
      "metadata": {
        "id": "AJ9INjUsCn9Q"
      },
      "source": [
        "$b_1$"
      ]
    },
    {
      "cell_type": "code",
      "execution_count": null,
      "metadata": {
        "colab": {
          "base_uri": "https://localhost:8080/",
          "height": 37
        },
        "id": "-o1Q7GKQAuFD",
        "outputId": "e5c6b877-5aeb-4875-9a9a-c5501e3ebce5"
      },
      "outputs": [
        {
          "data": {
            "text/latex": [
              "$\\displaystyle \\left[ 0\\right]$"
            ],
            "text/plain": [
              "[0]"
            ]
          },
          "execution_count": 5,
          "metadata": {},
          "output_type": "execute_result"
        }
      ],
      "source": [
        "solve(diff(t_x1x1,x1) + diff(t_x1x2,x2) + diff(t_x1x3,x3) + rho*b1,b1)"
      ]
    },
    {
      "cell_type": "markdown",
      "metadata": {
        "id": "mPWytuTYCrSx"
      },
      "source": [
        "$b_2$"
      ]
    },
    {
      "cell_type": "code",
      "execution_count": null,
      "metadata": {
        "colab": {
          "base_uri": "https://localhost:8080/",
          "height": 58
        },
        "id": "F0GDBq54B8Uy",
        "outputId": "1ad3263a-b84d-40f1-f1dd-a1dd9fe15aa3"
      },
      "outputs": [
        {
          "data": {
            "text/latex": [
              "$\\displaystyle \\left[ \\frac{0.333333333333333 x_{2} \\cdot \\left(3.0 x_{2} - 2.0\\right)}{\\rho}\\right]$"
            ],
            "text/plain": [
              "⎡0.333333333333333⋅x₂⋅(3.0⋅x₂ - 2.0)⎤\n",
              "⎢───────────────────────────────────⎥\n",
              "⎣                 ρ                 ⎦"
            ]
          },
          "execution_count": 6,
          "metadata": {},
          "output_type": "execute_result"
        }
      ],
      "source": [
        "solve(diff(t_x2x1,x1) + diff(t_x2x2,x2) + diff(t_x2x3,x3) + rho*b2,b2)"
      ]
    },
    {
      "cell_type": "markdown",
      "metadata": {
        "id": "jtCLmkLnCs3d"
      },
      "source": [
        "$b_3$"
      ]
    },
    {
      "cell_type": "code",
      "execution_count": null,
      "metadata": {
        "colab": {
          "base_uri": "https://localhost:8080/",
          "height": 58
        },
        "id": "195mNnevCWRb",
        "outputId": "4f9760fc-a7e2-49bd-892d-a1925d7c7d44"
      },
      "outputs": [
        {
          "data": {
            "text/latex": [
              "$\\displaystyle \\left[ - \\frac{4 x_{3}}{\\rho}\\right]$"
            ],
            "text/plain": [
              "⎡-4⋅x₃ ⎤\n",
              "⎢──────⎥\n",
              "⎣  ρ   ⎦"
            ]
          },
          "execution_count": 7,
          "metadata": {},
          "output_type": "execute_result"
        }
      ],
      "source": [
        "solve(diff(t_x3x1,x1) + diff(t_x3x2,x2) + diff(t_x3x3,x3) + rho*b3,b3)"
      ]
    },
    {
      "attachments": {},
      "cell_type": "markdown",
      "metadata": {
        "id": "2Ig1F5lmCxMQ"
      },
      "source": [
        "Now, lets build our matrix $t_{ij}$ evaluated at $P(a,0,2\\sqrt a)$\n",
        "\n",
        "\n",
        "$$ [t_{ij}] \\Bigr|_P =\n",
        "\\begin{bmatrix}\n",
        "    a^2 \\cdot 0 & a(1 - 0^2) & 0 \\\\\n",
        "    a(1 - 0^2) & \\frac{1}{3}(0^2 - 3\\cdot 0) & 0 \\\\\n",
        "    0 & 0 & 2(2\\sqrt a)^2\n",
        "\\end{bmatrix}\n",
        "$$\n",
        "\n",
        "Then we have \n",
        "\n",
        "$$ [t_{ij}]\\Bigr|_P =\n",
        "\\begin{bmatrix}\n",
        "    0 & a & 0 \\\\\n",
        "    a & 0 & 0 \\\\\n",
        "    0 & 0 & 8a\n",
        "\\end{bmatrix}\n",
        "$$\n"
      ]
    },
    {
      "cell_type": "code",
      "execution_count": null,
      "metadata": {
        "colab": {
          "base_uri": "https://localhost:8080/"
        },
        "id": "8Af0ssZeCgxw",
        "outputId": "90364dbd-de2b-4025-8482-5dd4c0167893"
      },
      "outputs": [
        {
          "data": {
            "text/plain": [
              "array([1.0*a, -1.0*a, 8.0*a], dtype=object)"
            ]
          },
          "execution_count": 10,
          "metadata": {},
          "output_type": "execute_result"
        }
      ],
      "source": [
        "import numpy as np\n",
        "a = symbols('a')\n",
        "t_P = np.array([[0,1,0],[1,0,0],[0,0,8]])\n",
        "np.linalg.eig(t_P)[0] * a"
      ]
    },
    {
      "attachments": {},
      "cell_type": "markdown",
      "metadata": {
        "id": "1_DvYFj-FAMY"
      },
      "source": [
        "Now for the maximum shear strees at $P(a,0,2\\sqrt a)$, we know that\n",
        "\n",
        "$$ \\sigma_s = \\frac{1}{2} \\left| \\sigma_{max} - \\sigma_{min} \\right| $$"
      ]
    },
    {
      "cell_type": "code",
      "execution_count": null,
      "metadata": {
        "colab": {
          "base_uri": "https://localhost:8080/",
          "height": 39
        },
        "id": "E9pODHYsEpAk",
        "outputId": "a748add3-f7a4-4d9c-f477-3b2bf621d445"
      },
      "outputs": [
        {
          "data": {
            "text/latex": [
              "$\\displaystyle 4.5 \\left|{a}\\right|$"
            ],
            "text/plain": [
              "4.5⋅│a│"
            ]
          },
          "execution_count": 11,
          "metadata": {},
          "output_type": "execute_result"
        }
      ],
      "source": [
        "(1/2) * abs(8*a - (-1*a))"
      ]
    },
    {
      "attachments": {},
      "cell_type": "markdown",
      "metadata": {
        "id": "ta9iE4LLGCPD"
      },
      "source": [
        "Finally, let's find the principal deviator stresses at $P$\n",
        "\n",
        "We know that\n",
        "\n",
        "$$\\sigma_M = \\frac{t_{ij}}{3} = \\frac{8a}{3} = \\frac{T_{kk}}{3}$$\n",
        "\n",
        "We define deviatoric stress to be\n",
        "\n",
        "$$ S = T\\Bigr|_P - \\frac{T_{kk}}{3} I, \\quad\n",
        "[S] =\n",
        "\\begin{bmatrix}\n",
        "    -\\frac{8}{3}a -s & a & 0 \\\\\n",
        "    a & -\\frac{8}{3}a -s & 0 \\\\\n",
        "    0 & 0 & \\frac{16a}{3} -s\n",
        "\\end{bmatrix}\n",
        "$$\n",
        "\n",
        "Now, in order to obtain the principal stresses, we do $s=0$\n",
        "\n",
        "$$ [S] =\n",
        "\\begin{bmatrix}\n",
        "    -\\frac{8}{3}a  & a & 0 \\\\\n",
        "    a & -\\frac{8}{3}a  & 0 \\\\\n",
        "    0 & 0 & \\frac{16a}{3} \n",
        "\\end{bmatrix}\n",
        "$$\n"
      ]
    },
    {
      "cell_type": "code",
      "execution_count": null,
      "metadata": {
        "colab": {
          "base_uri": "https://localhost:8080/"
        },
        "id": "CbyJKF36FZ8T",
        "outputId": "20b65d36-3dee-41aa-8c95-3fb630abf17f"
      },
      "outputs": [
        {
          "name": "stdout",
          "output_type": "stream",
          "text": [
            "[[-2.66666667  1.          0.        ]\n",
            " [ 1.         -2.66666667  0.        ]\n",
            " [ 0.          0.          5.33333333]]\n"
          ]
        }
      ],
      "source": [
        "S = np.array([[-8/3, 1,0],\n",
        "              [1,-8/3,0],\n",
        "              [0,0,16/3]])\n",
        "print(S)"
      ]
    },
    {
      "cell_type": "code",
      "execution_count": null,
      "metadata": {
        "colab": {
          "base_uri": "https://localhost:8080/"
        },
        "id": "Ut-RfwyYH3fz",
        "outputId": "d1758cc6-6702-4d4a-8b3d-93071b3aa1fc"
      },
      "outputs": [
        {
          "data": {
            "text/plain": [
              "array([-1.66666666666667*a, -3.66666666666667*a, 5.33333333333333*a],\n",
              "      dtype=object)"
            ]
          },
          "execution_count": 13,
          "metadata": {},
          "output_type": "execute_result"
        }
      ],
      "source": [
        "np.linalg.eig(S)[0] * a"
      ]
    },
    {
      "cell_type": "code",
      "execution_count": null,
      "metadata": {
        "id": "xW2FP0TBH95I"
      },
      "outputs": [],
      "source": []
    }
  ],
  "metadata": {
    "colab": {
      "provenance": []
    },
    "kernelspec": {
      "display_name": "Python 3",
      "name": "python3"
    },
    "language_info": {
      "name": "python"
    }
  },
  "nbformat": 4,
  "nbformat_minor": 0
}
