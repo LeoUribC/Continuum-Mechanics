{
  "cells": [
    {
      "cell_type": "markdown",
      "metadata": {
        "id": "_WyH-K63w2oF"
      },
      "source": [
        "# **Exercise 1**\n",
        "\n",
        "Let's deduce the maximum shear stress equations and values. Let us begin by defining the form of the traction tensor $\\text{t}^{ (\\hat{\\text{n}}) }$ and use it to define the normal stress value. This is given by:\n",
        "\n",
        "$$ \\text{t}^{ (\\hat{\\text{n}}) } = \\text{T} \\cdot \\hat{\\text{n}}, \\quad \\text{then} \\quad \\sigma_N = \\text{t}^{ (\\hat{\\text{n}}) } \\cdot \\hat{ \\text{n} } $$\n",
        "\n",
        "From this, we can see that if\n",
        "\n",
        "$$ \\text{t}^{ (\\hat{\\text{n}}) } = \\sigma_I n_1 \\hat{e}_1^* + \\sigma_{II} n_2 \\hat{e}_2^* + \\sigma_{III} n_3 \\hat{e}_3^* $$\n",
        "\n",
        "Then\n",
        "\n",
        "$$ \\sigma_N = \\sigma_{I}n_1^2 + \\sigma_{II}n_2^2 + \\sigma_{III}n_3^2 \\tag{1} $$\n",
        "\n",
        "We'll use `sympy` library to determine this first result. Importing this library along `numpy` for other calculations:"
      ]
    },
    {
      "cell_type": "code",
      "execution_count": null,
      "metadata": {
        "id": "F7OeCSuOw2oG"
      },
      "outputs": [],
      "source": [
        "import sympy as sp\n",
        "import numpy as np"
      ]
    },
    {
      "cell_type": "markdown",
      "metadata": {
        "id": "sN19CW0sw2oH"
      },
      "source": [
        "Now, we proceed to declare symbolic variables that we'll use from now on in this problem:"
      ]
    },
    {
      "cell_type": "code",
      "execution_count": null,
      "metadata": {
        "colab": {
          "base_uri": "https://localhost:8080/",
          "height": 78
        },
        "id": "frKPYEdJw2oH",
        "outputId": "0ab7624a-95e7-4ec7-fdfd-7bc4a0953afb"
      },
      "outputs": [
        {
          "output_type": "execute_result",
          "data": {
            "text/plain": [
              "Matrix([\n",
              "[  \\sigma_{I}*n_1],\n",
              "[ \\sigma_{II}*n_2],\n",
              "[\\sigma_{III}*n_3]])"
            ],
            "text/latex": "$\\displaystyle \\left[\\begin{matrix}\\sigma_{I} n_{1}\\\\\\sigma_{II} n_{2}\\\\\\sigma_{III} n_{3}\\end{matrix}\\right]$"
          },
          "metadata": {},
          "execution_count": 2
        }
      ],
      "source": [
        "s1, s2, s3, n1, n2, n3 = sp.symbols('\\sigma_{I}, \\sigma_{II}, \\sigma_{III}, n_1, n_2, n_3')\n",
        "\n",
        "# declaring the normal vector and the stress tensor\n",
        "n = sp.Matrix([n1, n2, n3])\n",
        "\n",
        "tij = sp.Matrix(\n",
        "    [\n",
        "        [s1, 0, 0],\n",
        "        [0, s2, 0],\n",
        "        [0, 0, s3]\n",
        "    ]\n",
        ")\n",
        "\n",
        "# traction vector\n",
        "tin = tij*n\n",
        "tin"
      ]
    },
    {
      "cell_type": "markdown",
      "metadata": {
        "id": "PsUiMALIw2oI"
      },
      "source": [
        "After doing the calculation to find $\\sigma_N$ we have:"
      ]
    },
    {
      "cell_type": "code",
      "execution_count": null,
      "metadata": {
        "colab": {
          "base_uri": "https://localhost:8080/",
          "height": 39
        },
        "id": "f5TweHI5w2oI",
        "outputId": "9edaf9eb-97e1-4e2d-afc9-daaf8d855b3c"
      },
      "outputs": [
        {
          "output_type": "execute_result",
          "data": {
            "text/plain": [
              "\\sigma_{III}*n_3**2 + \\sigma_{II}*n_2**2 + \\sigma_{I}*n_1**2"
            ],
            "text/latex": "$\\displaystyle \\sigma_{III} n_{3}^{2} + \\sigma_{II} n_{2}^{2} + \\sigma_{I} n_{1}^{2}$"
          },
          "metadata": {},
          "execution_count": 3
        }
      ],
      "source": [
        "# finding normal stress value\n",
        "sn = tin.T*n  # it's necessary to transpose the traction\n",
        "sn = sn[0]  # extracting the only element in the remaining result\n",
        "sn"
      ]
    },
    {
      "cell_type": "markdown",
      "metadata": {
        "id": "bqmYi3OCw2oI"
      },
      "source": [
        "Now, knowing the definition of the **shear stress componen** $\\sigma_S$ as:\n",
        "\n",
        "$$ \\sigma_S^2 = \\text{t}_i^{ (\\hat{ \\text{n} }) }\\text{t}_i^{ (\\hat{ \\text{n} }) } - \\sigma_N^2 $$\n",
        "\n",
        "Let's construct this component:"
      ]
    },
    {
      "cell_type": "code",
      "execution_count": null,
      "metadata": {
        "colab": {
          "base_uri": "https://localhost:8080/",
          "height": 42
        },
        "id": "3yUbgWuYw2oI",
        "outputId": "6f222af4-7762-4660-eee5-18e91302bde3"
      },
      "outputs": [
        {
          "output_type": "execute_result",
          "data": {
            "text/plain": [
              "\\sigma_{III}**2*n_3**2 + \\sigma_{II}**2*n_2**2 + \\sigma_{I}**2*n_1**2 - (\\sigma_{III}*n_3**2 + \\sigma_{II}*n_2**2 + \\sigma_{I}*n_1**2)**2"
            ],
            "text/latex": "$\\displaystyle \\sigma_{III}^{2} n_{3}^{2} + \\sigma_{II}^{2} n_{2}^{2} + \\sigma_{I}^{2} n_{1}^{2} - \\left(\\sigma_{III} n_{3}^{2} + \\sigma_{II} n_{2}^{2} + \\sigma_{I} n_{1}^{2}\\right)^{2}$"
          },
          "metadata": {},
          "execution_count": 4
        }
      ],
      "source": [
        "# calculation of shear stress component\n",
        "ss = (tin.T*tin)[0] - sn**2\n",
        "ss"
      ]
    },
    {
      "cell_type": "markdown",
      "metadata": {
        "id": "YpLILWIDw2oI"
      },
      "source": [
        "We now know may express $n_3^2$ in terms of $n_1, n_2$ knowing that $n_i n_i = 1$, $n_3^2$ becomes $n_3^2 = 1 - n_1^2 - n_2^2$. With this in mind we have:"
      ]
    },
    {
      "cell_type": "code",
      "execution_count": null,
      "metadata": {
        "colab": {
          "base_uri": "https://localhost:8080/",
          "height": 51
        },
        "id": "qfpjbGMnw2oJ",
        "outputId": "2fed8139-a8e7-4984-b8b4-3cd5f8dff7ab"
      },
      "outputs": [
        {
          "output_type": "execute_result",
          "data": {
            "text/plain": [
              "\\sigma_{III}**2*(-n_1**2 - n_2**2 + 1)**2 + \\sigma_{II}**2*n_2**2 + \\sigma_{I}**2*n_1**2 - (\\sigma_{III}*(-n_1**2 - n_2**2 + 1)**2 + \\sigma_{II}*n_2**2 + \\sigma_{I}*n_1**2)**2"
            ],
            "text/latex": "$\\displaystyle \\sigma_{III}^{2} \\left(- n_{1}^{2} - n_{2}^{2} + 1\\right)^{2} + \\sigma_{II}^{2} n_{2}^{2} + \\sigma_{I}^{2} n_{1}^{2} - \\left(\\sigma_{III} \\left(- n_{1}^{2} - n_{2}^{2} + 1\\right)^{2} + \\sigma_{II} n_{2}^{2} + \\sigma_{I} n_{1}^{2}\\right)^{2}$"
          },
          "metadata": {},
          "execution_count": 5
        }
      ],
      "source": [
        "# substitute in ss where values are n_3 for the expression above\n",
        "ss = ss.subs( n3, 1-n1**2-n2**2 )\n",
        "ss"
      ]
    },
    {
      "cell_type": "markdown",
      "metadata": {
        "id": "gCJAMyt-w2oJ"
      },
      "source": [
        "In order to get the *stationary*, we must find the derivatives and equal them to 0 and solve the resultating system. This with the help of sympy becomes:"
      ]
    },
    {
      "cell_type": "code",
      "execution_count": null,
      "metadata": {
        "colab": {
          "base_uri": "https://localhost:8080/",
          "height": 78
        },
        "id": "OraZJPdZw2oJ",
        "outputId": "98592748-2d03-41d2-c20f-05267c958953"
      },
      "outputs": [
        {
          "output_type": "display_data",
          "data": {
            "text/plain": [
              "Eq(2*n_1*(2*\\sigma_{III}**2*(n_1**2 + n_2**2 - 1) + \\sigma_{I}**2 - 2*(2*\\sigma_{III}*(n_1**2 + n_2**2 - 1) + \\sigma_{I})*(\\sigma_{III}*(n_1**2 + n_2**2 - 1)**2 + \\sigma_{II}*n_2**2 + \\sigma_{I}*n_1**2)), 0)"
            ],
            "text/latex": "$\\displaystyle 2 n_{1} \\cdot \\left(2 \\sigma_{III}^{2} \\left(n_{1}^{2} + n_{2}^{2} - 1\\right) + \\sigma_{I}^{2} - 2 \\cdot \\left(2 \\sigma_{III} \\left(n_{1}^{2} + n_{2}^{2} - 1\\right) + \\sigma_{I}\\right) \\left(\\sigma_{III} \\left(n_{1}^{2} + n_{2}^{2} - 1\\right)^{2} + \\sigma_{II} n_{2}^{2} + \\sigma_{I} n_{1}^{2}\\right)\\right) = 0$"
          },
          "metadata": {}
        },
        {
          "output_type": "display_data",
          "data": {
            "text/plain": [
              "Eq(2*n_2*(2*\\sigma_{III}**2*(n_1**2 + n_2**2 - 1) + \\sigma_{II}**2 - 2*(2*\\sigma_{III}*(n_1**2 + n_2**2 - 1) + \\sigma_{II})*(\\sigma_{III}*(n_1**2 + n_2**2 - 1)**2 + \\sigma_{II}*n_2**2 + \\sigma_{I}*n_1**2)), 0)"
            ],
            "text/latex": "$\\displaystyle 2 n_{2} \\cdot \\left(2 \\sigma_{III}^{2} \\left(n_{1}^{2} + n_{2}^{2} - 1\\right) + \\sigma_{II}^{2} - 2 \\cdot \\left(2 \\sigma_{III} \\left(n_{1}^{2} + n_{2}^{2} - 1\\right) + \\sigma_{II}\\right) \\left(\\sigma_{III} \\left(n_{1}^{2} + n_{2}^{2} - 1\\right)^{2} + \\sigma_{II} n_{2}^{2} + \\sigma_{I} n_{1}^{2}\\right)\\right) = 0$"
          },
          "metadata": {}
        }
      ],
      "source": [
        "# finding the derivatives of ss respect with n1 and n2\n",
        "# then simplifying the expression\n",
        "ss_n1 = ss.diff(n1).simplify()\n",
        "ss_n2 = ss.diff(n2).simplify()\n",
        "\n",
        "# defining the system\n",
        "ss_n1_equation = sp.Eq(ss_n1, 0)\n",
        "ss_n2_equation = sp.Eq(ss_n2, 0)\n",
        "\n",
        "display(ss_n1_equation, ss_n2_equation)"
      ]
    },
    {
      "cell_type": "markdown",
      "metadata": {
        "id": "EH0I_uqPw2oJ"
      },
      "source": [
        "Solving the system for $n_1, n_2$ we have:"
      ]
    },
    {
      "cell_type": "code",
      "execution_count": null,
      "metadata": {
        "colab": {
          "base_uri": "https://localhost:8080/"
        },
        "id": "RmjYnaZlw2oJ",
        "outputId": "97cefeae-e6f2-452c-d9c5-78b294ef50b2"
      },
      "outputs": [
        {
          "output_type": "execute_result",
          "data": {
            "text/plain": [
              "{n_1: 0, n_2: 0}"
            ]
          },
          "metadata": {},
          "execution_count": 7
        }
      ],
      "source": [
        "# solving for n1, n2\n",
        "sp.solve([ss_n1_equation, ss_n2_equation], [n1, n2], implicit=True)"
      ]
    },
    {
      "cell_type": "markdown",
      "metadata": {
        "id": "I6MLkpm4w2oJ"
      },
      "source": [
        "As expected, this is a trivial solution for the system. If we take $n_1=0$ for both equations, let's see the results for $n_2$:"
      ]
    },
    {
      "cell_type": "code",
      "execution_count": null,
      "metadata": {
        "colab": {
          "base_uri": "https://localhost:8080/"
        },
        "id": "-H31xRd1w2oJ",
        "outputId": "2c307bc2-c23d-45ca-c0b0-836bfd9e40f7"
      },
      "outputs": [
        {
          "output_type": "execute_result",
          "data": {
            "text/plain": [
              "{n_2: 0}"
            ]
          },
          "metadata": {},
          "execution_count": 8
        }
      ],
      "source": [
        "# taking n1=0\n",
        "ss_n1_equation = ss_n1_equation.subs(n1, 0)\n",
        "ss_n2_equation = ss_n2_equation.subs(n1, 0)\n",
        "\n",
        "# solving for n2\n",
        "sp.solve([ss_n2_equation, ss_n1_equation], n2, implicit=True)"
      ]
    },
    {
      "cell_type": "code",
      "execution_count": null,
      "metadata": {
        "id": "xe698w2xw2oK"
      },
      "outputs": [],
      "source": []
    }
  ],
  "metadata": {
    "kernelspec": {
      "display_name": "sci310",
      "language": "python",
      "name": "python3"
    },
    "language_info": {
      "codemirror_mode": {
        "name": "ipython",
        "version": 3
      },
      "file_extension": ".py",
      "mimetype": "text/x-python",
      "name": "python",
      "nbconvert_exporter": "python",
      "pygments_lexer": "ipython3",
      "version": "3.10.0"
    },
    "orig_nbformat": 4,
    "colab": {
      "provenance": []
    }
  },
  "nbformat": 4,
  "nbformat_minor": 0
}