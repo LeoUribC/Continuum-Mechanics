{
  "cells": [
    {
      "attachments": {},
      "cell_type": "markdown",
      "metadata": {
        "id": "6ZBnKQoOthHU"
      },
      "source": [
        "# **Exercise 3.8**\n",
        "\n",
        "Relative to the cartesian axes $Ox_1x_2x_3$ a stress field is given by the matrix\n",
        "\n",
        "$$ [t_{ij}] =\n",
        "\\begin{bmatrix}\n",
        "    (1-x_1^2)x_2 + \\frac{2}{3}x_2^3  &  -(4 - x_2^2)x_1 & 0 \\\\\n",
        "    -(4 - x_2^2)x_1  &  -\\frac{1}{3}(x_2^3 - 12x_2)  &  0 \\\\\n",
        "    0  &  0  & (3 - x_1^2)x_2\n",
        "\\end{bmatrix}\n",
        "$$\n",
        "\n",
        "(a) Show that the equilibrium ase satisfied everywhere for zero body forces  \n",
        "(b) Determine the stress vector at the point $P(2,-1,6)$ of the plane whose equation is $3x_1 + 6x_2 + 2x_3 = 12$."
      ]
    },
    {
      "attachments": {},
      "cell_type": "markdown",
      "metadata": {
        "id": "dnQedhqExxvz"
      },
      "source": [
        "## Solving\n",
        "\n",
        "(a) The equilibrium equations are:\n",
        "\n",
        "$$\\frac{\\partial \\sigma_{x1x1}}{\\partial x_1} + \\frac{\\partial \\sigma_{x1x2}}{\\partial x_2} + \\frac{\\partial \\sigma_{x1x3}}{\\partial x_3} + fx_1 = 0$$\n",
        "\n",
        "$$\\frac{\\partial \\sigma_{x2x1}}{\\partial x_1} + \\frac{\\partial \\sigma_{x2x2}}{\\partial x_2} + \\frac{\\partial \\sigma_{x2x3}}{\\partial x_3} + fx_2 = 0$$\n",
        "\n",
        "$$\\frac{\\partial \\sigma_{x3x1}}{\\partial x_1} + \\frac{\\partial \\sigma_{x3x2}}{\\partial x_2} + \\frac{\\partial \\sigma_{x3x3}}{\\partial x_3} + fx_3 = 0$$\n",
        "\n",
        "As we have zero body forces, then:\n",
        "\n",
        "$$fx_1 = fx_2 + fx_3 = 0$$\n",
        "\n",
        "As we're working with symbolic and numerical python libraries, let's import them and declare the equations listed above:"
      ]
    },
    {
      "cell_type": "code",
      "execution_count": null,
      "metadata": {
        "id": "sgGEUZjstKe4"
      },
      "outputs": [],
      "source": [
        "from sympy import *\n",
        "import numpy as np\n",
        "\n",
        "init_printing()\n",
        "\n",
        "x1,x2,x3,e1,e2,e3 = symbols('x_1 x_2 x_3 e_1 e_2 e_3')\n",
        "\n",
        "sigma_x1x1 = (1 - x1**2)*x2 + (2/3)*x2**3\n",
        "sigma_x1x2 = - x1*(4-x2**2)\n",
        "sigma_x1x3 = 0\n",
        "\n",
        "sigma_x2x1 = -(4 - x2**2)*x1\n",
        "sigma_x2x2 = -(1/3)*(x2**3 - 12*x2)\n",
        "sigma_x2x3 = 0\n",
        "\n",
        "sigma_x3x1 = 0\n",
        "sigma_x3x2 = 0\n",
        "sigma_x3x3 = (3-x1**2)*x2\n",
        "\n",
        "fx1,fx2,fx3 = 0,0,0"
      ]
    },
    {
      "attachments": {},
      "cell_type": "markdown",
      "metadata": {
        "id": "iZUmNqLdAwat"
      },
      "source": [
        "Let's calculate derivatives and equilibrium equations:"
      ]
    },
    {
      "cell_type": "code",
      "execution_count": null,
      "metadata": {
        "colab": {
          "base_uri": "https://localhost:8080/",
          "height": 37
        },
        "id": "9ByvxW3k44dJ",
        "outputId": "67973887-6521-40be-c1f5-582b12cc124e"
      },
      "outputs": [
        {
          "data": {
            "text/latex": [
              "$\\displaystyle 0$"
            ],
            "text/plain": [
              "0"
            ]
          },
          "execution_count": 64,
          "metadata": {},
          "output_type": "execute_result"
        }
      ],
      "source": [
        "diff(sigma_x1x1,x1) + diff(sigma_x1x2,x2) + diff(sigma_x1x3,x3) + fx1"
      ]
    },
    {
      "cell_type": "code",
      "execution_count": null,
      "metadata": {
        "colab": {
          "base_uri": "https://localhost:8080/",
          "height": 37
        },
        "id": "QRYzYzPM-Yw8",
        "outputId": "465cc304-7bf0-4363-a11b-9999dc05de3c"
      },
      "outputs": [
        {
          "data": {
            "text/latex": [
              "$\\displaystyle 0$"
            ],
            "text/plain": [
              "0"
            ]
          },
          "execution_count": 65,
          "metadata": {},
          "output_type": "execute_result"
        }
      ],
      "source": [
        "diff(sigma_x2x1,x1) + diff(sigma_x2x2,x2) + diff(sigma_x2x3,x3) + fx2"
      ]
    },
    {
      "cell_type": "code",
      "execution_count": null,
      "metadata": {
        "colab": {
          "base_uri": "https://localhost:8080/",
          "height": 37
        },
        "id": "zm34hdpIA8Wy",
        "outputId": "5dbb525c-ee0f-4d8c-9a9c-9757d671aba2"
      },
      "outputs": [
        {
          "data": {
            "text/latex": [
              "$\\displaystyle 0$"
            ],
            "text/plain": [
              "0"
            ]
          },
          "execution_count": 66,
          "metadata": {},
          "output_type": "execute_result"
        }
      ],
      "source": [
        "diff(sigma_x3x1,x1) + diff(sigma_x3x2,x2) + diff(sigma_x3x3,x3) + fx3"
      ]
    },
    {
      "attachments": {},
      "cell_type": "markdown",
      "metadata": {
        "id": "hsefIXBqBvAs"
      },
      "source": [
        "As seen, all results were 0, then, for zero body forces the equilibrium equations work as expected."
      ]
    },
    {
      "attachments": {},
      "cell_type": "markdown",
      "metadata": {
        "id": "-aariVCYB9N5"
      },
      "source": [
        "(b) The direction cosines of the plane are:"
      ]
    },
    {
      "cell_type": "code",
      "execution_count": null,
      "metadata": {
        "colab": {
          "base_uri": "https://localhost:8080/",
          "height": 37
        },
        "id": "atCJzw_pB66t",
        "outputId": "f1d20e46-f33b-47ac-92b2-a7aad9d123ca"
      },
      "outputs": [
        {
          "data": {
            "text/latex": [
              "$\\displaystyle 0.428571428571429$"
            ],
            "text/plain": [
              "0.42857142857142855"
            ]
          },
          "execution_count": 71,
          "metadata": {},
          "output_type": "execute_result"
        }
      ],
      "source": [
        "l = 3/np.sqrt(3**2 + 6**2 + 2**2)\n",
        "l"
      ]
    },
    {
      "cell_type": "code",
      "execution_count": null,
      "metadata": {
        "colab": {
          "base_uri": "https://localhost:8080/",
          "height": 37
        },
        "id": "C176-K1DChs6",
        "outputId": "edff17d5-86e5-482b-d0bf-93c4ce26c2e2"
      },
      "outputs": [
        {
          "data": {
            "text/latex": [
              "$\\displaystyle 0.857142857142857$"
            ],
            "text/plain": [
              "0.8571428571428571"
            ]
          },
          "execution_count": 72,
          "metadata": {},
          "output_type": "execute_result"
        }
      ],
      "source": [
        "m = 6/np.sqrt(3**2 + 6**2 + 2**2)\n",
        "m"
      ]
    },
    {
      "cell_type": "code",
      "execution_count": null,
      "metadata": {
        "colab": {
          "base_uri": "https://localhost:8080/",
          "height": 37
        },
        "id": "BZMEFDxeCmOZ",
        "outputId": "ae58c093-ef35-4446-b810-c17dc85f2ca7"
      },
      "outputs": [
        {
          "data": {
            "text/latex": [
              "$\\displaystyle 0.285714285714286$"
            ],
            "text/plain": [
              "0.2857142857142857"
            ]
          },
          "execution_count": 73,
          "metadata": {},
          "output_type": "execute_result"
        }
      ],
      "source": [
        "n = 2/np.sqrt(3**2 + 6**2 + 2**2)\n",
        "n"
      ]
    },
    {
      "attachments": {},
      "cell_type": "markdown",
      "metadata": {
        "id": "5m8upbIvCxC1"
      },
      "source": [
        "Now, let's take the point $P(2,-1,6)$"
      ]
    },
    {
      "cell_type": "code",
      "execution_count": null,
      "metadata": {
        "id": "2Gy8XI5aCwN9"
      },
      "outputs": [],
      "source": [
        "x_1 = 2\n",
        "x_2 = -1\n",
        "x_3 = 6"
      ]
    },
    {
      "cell_type": "code",
      "execution_count": null,
      "metadata": {
        "colab": {
          "base_uri": "https://localhost:8080/",
          "height": 37
        },
        "id": "gxQiyGDdCoph",
        "outputId": "bf8a0e1a-05e3-4abe-e6d0-21df62eb6380"
      },
      "outputs": [
        {
          "data": {
            "text/latex": [
              "$\\displaystyle 2.33333333333333$"
            ],
            "text/plain": [
              "2.33333333333333"
            ]
          },
          "execution_count": 84,
          "metadata": {},
          "output_type": "execute_result"
        }
      ],
      "source": [
        "sigmax1x1 = sigma_x1x1.subs([(x1,x_1),(x2,x_2),(x3,x_3)])\n",
        "sigmax1x1"
      ]
    },
    {
      "cell_type": "code",
      "execution_count": null,
      "metadata": {
        "colab": {
          "base_uri": "https://localhost:8080/",
          "height": 37
        },
        "id": "Fb5Qx1DsHKui",
        "outputId": "4704ece0-102f-4f9b-ed4a-04cb4797946f"
      },
      "outputs": [
        {
          "data": {
            "text/latex": [
              "$\\displaystyle -6$"
            ],
            "text/plain": [
              "-6"
            ]
          },
          "execution_count": 88,
          "metadata": {},
          "output_type": "execute_result"
        }
      ],
      "source": [
        "sigmax1x2 = sigma_x1x2.subs([(x1,x_1),(x2,x_2),(x3,x_3)])\n",
        "sigmax1x2"
      ]
    },
    {
      "cell_type": "code",
      "execution_count": null,
      "metadata": {
        "colab": {
          "base_uri": "https://localhost:8080/",
          "height": 37
        },
        "id": "2QAPwoNgHXR7",
        "outputId": "413906fb-f869-4c94-9cf5-2c04b730080e"
      },
      "outputs": [
        {
          "data": {
            "text/latex": [
              "$\\displaystyle -6$"
            ],
            "text/plain": [
              "-6"
            ]
          },
          "execution_count": 90,
          "metadata": {},
          "output_type": "execute_result"
        }
      ],
      "source": [
        "sigmax2x1 = sigma_x2x1.subs([(x1,x_1),(x2,x_2),(x3,x_3)])\n",
        "sigmax2x1"
      ]
    },
    {
      "cell_type": "code",
      "execution_count": null,
      "metadata": {
        "colab": {
          "base_uri": "https://localhost:8080/",
          "height": 37
        },
        "id": "FWQc8IxZF90Q",
        "outputId": "766c1923-1679-48ed-90cb-cfa8224036e1"
      },
      "outputs": [
        {
          "data": {
            "text/latex": [
              "$\\displaystyle -3.66666666666667$"
            ],
            "text/plain": [
              "-3.66666666666667"
            ]
          },
          "execution_count": 85,
          "metadata": {},
          "output_type": "execute_result"
        }
      ],
      "source": [
        "sigmax2x2 = sigma_x2x2.subs([(x1,x_1),(x2,x_2),(x3,x_3)])\n",
        "sigmax2x2"
      ]
    },
    {
      "cell_type": "code",
      "execution_count": null,
      "metadata": {
        "colab": {
          "base_uri": "https://localhost:8080/",
          "height": 37
        },
        "id": "ZJYgWS62GiNj",
        "outputId": "3edaa3c6-47de-4593-ea29-4dc394a38e82"
      },
      "outputs": [
        {
          "data": {
            "text/latex": [
              "$\\displaystyle 1$"
            ],
            "text/plain": [
              "1"
            ]
          },
          "execution_count": 86,
          "metadata": {},
          "output_type": "execute_result"
        }
      ],
      "source": [
        "sigmax3x3 = sigma_x3x3.subs([(x1,x_1),(x2,x_2),(x3,x_3)])\n",
        "sigmax3x3"
      ]
    },
    {
      "attachments": {},
      "cell_type": "markdown",
      "metadata": {
        "id": "hKH_5Z4mHkME"
      },
      "source": [
        "Finally, with calculated values and directions cosines, we have:"
      ]
    },
    {
      "cell_type": "code",
      "execution_count": null,
      "metadata": {
        "colab": {
          "base_uri": "https://localhost:8080/",
          "height": 37
        },
        "id": "EAWV7V21Go1U",
        "outputId": "23b172aa-489f-4d31-93e3-f91651da91fe"
      },
      "outputs": [
        {
          "data": {
            "text/latex": [
              "$\\displaystyle -4.14285714285714$"
            ],
            "text/plain": [
              "-4.14285714285714"
            ]
          },
          "execution_count": 91,
          "metadata": {},
          "output_type": "execute_result"
        }
      ],
      "source": [
        "sigmax = sigmax1x1*l + sigmax1x2*m + 0*n\n",
        "sigmax"
      ]
    },
    {
      "cell_type": "code",
      "execution_count": null,
      "metadata": {
        "colab": {
          "base_uri": "https://localhost:8080/",
          "height": 37
        },
        "id": "L4imbHHzH5l_",
        "outputId": "ddd01c9c-1b5c-43c1-95cf-3ef310e7fa75"
      },
      "outputs": [
        {
          "data": {
            "text/latex": [
              "$\\displaystyle -5.71428571428571$"
            ],
            "text/plain": [
              "-5.71428571428571"
            ]
          },
          "execution_count": 92,
          "metadata": {},
          "output_type": "execute_result"
        }
      ],
      "source": [
        "sigmay = sigmax2x1*l + sigmax2x2*m + 0*n\n",
        "sigmay"
      ]
    },
    {
      "cell_type": "code",
      "execution_count": null,
      "metadata": {
        "colab": {
          "base_uri": "https://localhost:8080/",
          "height": 37
        },
        "id": "HT25CRgyIMPD",
        "outputId": "ad6655f8-2b02-4044-c34f-dc2f7aaa6eb4"
      },
      "outputs": [
        {
          "data": {
            "text/latex": [
              "$\\displaystyle 0.285714285714286$"
            ],
            "text/plain": [
              "0.285714285714286"
            ]
          },
          "execution_count": 94,
          "metadata": {},
          "output_type": "execute_result"
        }
      ],
      "source": [
        "sigmaz = 0*l + 0*m + sigmax3x3*n\n",
        "sigmaz"
      ]
    },
    {
      "cell_type": "code",
      "execution_count": null,
      "metadata": {
        "colab": {
          "base_uri": "https://localhost:8080/",
          "height": 39
        },
        "id": "OIJXh_IZITBu",
        "outputId": "a09ccaa9-6d8f-4158-e2d6-ba07aafbedc0"
      },
      "outputs": [
        {
          "data": {
            "text/latex": [
              "$\\displaystyle - 4.14285714285714 e_{1} - 5.71428571428571 e_{2} + 0.285714285714286 e_{3}$"
            ],
            "text/plain": [
              "-4.14285714285714⋅e₁ - 5.71428571428571⋅e₂ + 0.285714285714286⋅e₃"
            ]
          },
          "execution_count": 97,
          "metadata": {},
          "output_type": "execute_result"
        }
      ],
      "source": [
        "sigmax*e1 + sigmay*e2 + sigmaz*e3"
      ]
    }
  ],
  "metadata": {
    "colab": {
      "provenance": []
    },
    "kernelspec": {
      "display_name": "Python 3",
      "name": "python3"
    },
    "language_info": {
      "name": "python"
    }
  },
  "nbformat": 4,
  "nbformat_minor": 0
}
